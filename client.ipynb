{
 "cells": [
  {
   "cell_type": "code",
   "execution_count": null,
   "metadata": {},
   "outputs": [],
   "source": [
    "import os\n",
    "import boto3\n",
    "\n",
    "os.environ[\"AWS_ENDPOINT_URL\"] = \"https://localhost/server.php\"\n",
    "os.environ[\"AWS_REGION\"] = \"us-east-1\"\n",
    "os.environ[\"AWS_ACCESS_KEY_ID\"] = \"123\"\n",
    "os.environ[\"AWS_SECRET_ACCESS_KEY\"] = \"456\"\n",
    "\n",
    "curr_dir = os.getcwd()\n",
    "file_name = os.path.join(curr_dir, 'client.ipynb')\n",
    "\n",
    "s3 = boto3.resource('s3',\n",
    "                    endpoint_url=os.getenv(\"AWS_ENDPOINT_URL\"),\n",
    "                    verify=True)"
   ]
  },
  {
   "cell_type": "code",
   "execution_count": null,
   "metadata": {},
   "outputs": [],
   "source": [
    "bucket_name = \"bucket_jhx\"\n",
    "bucket = s3.Bucket(bucket_name)\n",
    "object_name = \"f/object.ipynb\"\n",
    "bucket.upload_file(file_name, object_name),"
   ]
  },
  {
   "cell_type": "code",
   "execution_count": null,
   "metadata": {},
   "outputs": [],
   "source": [
    "bucket.upload_file(file_name, \"1.ipynb\"),\n",
    "bucket.upload_file(file_name, \"2.ipynb\"),\n",
    "bucket.upload_file(file_name, \"folder/2.ipynb\"),\n",
    "bucket.upload_file(file_name, \"folder/3.ipynb\"),\n",
    "bucket.upload_file(file_name, \"folder/4.ipynb\"),\n",
    "bucket.upload_file(file_name, \"folder/eeaaa/5.ipynb\"),\n",
    "bucket.upload_file(file_name, \"folder/eaaaa/6.ipynb\"),"
   ]
  },
  {
   "cell_type": "code",
   "execution_count": null,
   "metadata": {},
   "outputs": [],
   "source": [
    "download_file = os.path.join(curr_dir, \"download.ipynb\")\n",
    "bucket.download_file(object_name, download_file)\n",
    "!ls \"$curr_dir\""
   ]
  },
  {
   "cell_type": "code",
   "execution_count": null,
   "metadata": {},
   "outputs": [],
   "source": [
    "os.remove(download_file)\n",
    "!ls \"$curr_dir\""
   ]
  },
  {
   "cell_type": "code",
   "execution_count": null,
   "metadata": {},
   "outputs": [],
   "source": [
    "# check files \n",
    "for obj in bucket.objects.all():\n",
    "    print(obj.key)"
   ]
  },
  {
   "cell_type": "code",
   "execution_count": null,
   "metadata": {},
   "outputs": [],
   "source": [
    "# check files \n",
    "for obj in bucket.objects.filter(Prefix=\"folder/e\"):\n",
    "    print(obj.key)\n",
    "    print(obj.last_modified)\n",
    "    print(obj.size)\n",
    "    obj.delete()"
   ]
  },
  {
   "cell_type": "code",
   "execution_count": null,
   "metadata": {},
   "outputs": [],
   "source": [
    "for obj in bucket.objects.all():\n",
    "    obj.delete()"
   ]
  },
  {
   "cell_type": "markdown",
   "metadata": {},
   "source": []
  },
  {
   "cell_type": "code",
   "execution_count": null,
   "metadata": {},
   "outputs": [],
   "source": [
    "bucket.delete()"
   ]
  }
 ],
 "metadata": {
  "kernelspec": {
   "display_name": "Python 3.9.12 ('base')",
   "language": "python",
   "name": "python3"
  },
  "language_info": {
   "codemirror_mode": {
    "name": "ipython",
    "version": 3
   },
   "file_extension": ".py",
   "mimetype": "text/x-python",
   "name": "python",
   "nbconvert_exporter": "python",
   "pygments_lexer": "ipython3",
   "version": "3.9.12"
  },
  "orig_nbformat": 4,
  "vscode": {
   "interpreter": {
    "hash": "d8fcee15318561c421fd029289997adde12df0a6deb462b29cf55fa6694a6d5b"
   }
  }
 },
 "nbformat": 4,
 "nbformat_minor": 2
}
