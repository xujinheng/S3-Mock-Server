{
 "cells": [
  {
   "cell_type": "code",
   "execution_count": 108,
   "metadata": {},
   "outputs": [],
   "source": [
    "import os\n",
    "import boto3\n",
    "\n",
    "os.environ[\"AWS_ENDPOINT_URL\"] = \"http://localhost/OCF server/S3-Mock-Server/server.php\"\n",
    "\n",
    "# The mock server does not validate AWS_ACCESS_KEY_ID/AWS_SECRET_ACCESS_KEY\n",
    "os.environ[\"AWS_ACCESS_KEY_ID\"] = \"123\"\n",
    "os.environ[\"AWS_SECRET_ACCESS_KEY\"] = \"456\"\n",
    "\n",
    "curr_dir = os.getcwd()\n",
    "file_name = os.path.join(curr_dir, 'client.ipynb')\n",
    "\n",
    "s3 = boto3.resource('s3',\n",
    "                    endpoint_url=os.getenv(\"AWS_ENDPOINT_URL\"),\n",
    "                    verify=True)"
   ]
  },
  {
   "cell_type": "markdown",
   "metadata": {},
   "source": [
    "## Buckets"
   ]
  },
  {
   "cell_type": "markdown",
   "metadata": {},
   "source": [
    "### Create Buckets"
   ]
  },
  {
   "cell_type": "code",
   "execution_count": 109,
   "metadata": {},
   "outputs": [
    {
     "name": "stdout",
     "output_type": "stream",
     "text": [
      "├── bucket_1\n",
      "│   └── bucket_1.ipynb\n",
      "├── bucket_2\n",
      "└── bucket_3\n",
      "\n",
      "3 directories, 1 file\n"
     ]
    }
   ],
   "source": [
    "s3.Bucket(\"bucket_1\").upload_file(file_name, \"bucket_1.ipynb\")\n",
    "s3.create_bucket(Bucket='bucket_2')\n",
    "s3.create_bucket(Bucket='bucket_3')\n",
    "!tree \"$curr_dir/buckets\" | tail -n +2"
   ]
  },
  {
   "cell_type": "markdown",
   "metadata": {},
   "source": [
    "### List Buckets"
   ]
  },
  {
   "cell_type": "code",
   "execution_count": 110,
   "metadata": {},
   "outputs": [
    {
     "name": "stdout",
     "output_type": "stream",
     "text": [
      "bucket_1\n",
      "2022-07-04 00:16:54+08:00\n",
      "bucket_2\n",
      "2022-07-04 00:16:54+08:00\n",
      "bucket_3\n",
      "2022-07-04 00:16:54+08:00\n"
     ]
    }
   ],
   "source": [
    "for bucket in s3.buckets.all():\n",
    "    print(bucket.name)\n",
    "    print(bucket.creation_date)"
   ]
  },
  {
   "cell_type": "markdown",
   "metadata": {},
   "source": [
    "### Delete Buckets"
   ]
  },
  {
   "cell_type": "code",
   "execution_count": 111,
   "metadata": {},
   "outputs": [
    {
     "name": "stdout",
     "output_type": "stream",
     "text": [
      "└── bucket_1\n",
      "    └── bucket_1.ipynb\n",
      "\n",
      "1 directory, 1 file\n"
     ]
    }
   ],
   "source": [
    "s3.Bucket(\"bucket_1\").delete() # bucket_1 is not empty\n",
    "s3.Bucket(\"bucket_2\").delete() # bucket_2 is deleted\n",
    "s3.Bucket(\"bucket_3\").delete() # bucket_3 is deleted\n",
    "!tree \"$curr_dir/buckets\" | tail -n +2"
   ]
  },
  {
   "cell_type": "markdown",
   "metadata": {},
   "source": [
    "## Objects"
   ]
  },
  {
   "cell_type": "markdown",
   "metadata": {},
   "source": [
    "### Create Objects"
   ]
  },
  {
   "cell_type": "code",
   "execution_count": 112,
   "metadata": {},
   "outputs": [
    {
     "name": "stdout",
     "output_type": "stream",
     "text": [
      "└── bucket_1\n",
      "    ├── 1.ipynb\n",
      "    ├── 2.ipynb\n",
      "    ├── bucket_1.ipynb\n",
      "    └── folder\n",
      "        ├── 2.ipynb\n",
      "        ├── 3.ipynb\n",
      "        ├── 4.ipynb\n",
      "        ├── apache\n",
      "        │   └── 7.ipynb\n",
      "        ├── apple\n",
      "        │   └── 5.ipynb\n",
      "        └── application\n",
      "            └── 6.ipynb\n",
      "\n",
      "5 directories, 9 files\n"
     ]
    }
   ],
   "source": [
    "bucket = s3.Bucket(\"bucket_1\")\n",
    "bucket.upload_file(file_name, \"1.ipynb\")\n",
    "bucket.upload_file(file_name, \"2.ipynb\")\n",
    "bucket.upload_file(file_name, \"folder/2.ipynb\")\n",
    "bucket.upload_file(file_name, \"folder/3.ipynb\")\n",
    "bucket.upload_file(file_name, \"folder/4.ipynb\")\n",
    "bucket.upload_file(file_name, \"folder/apple/5.ipynb\")\n",
    "bucket.upload_file(file_name, \"folder/application/6.ipynb\")\n",
    "bucket.upload_file(file_name, \"folder/apache/7.ipynb\")\n",
    "!tree \"$curr_dir/buckets\" | tail -n +2"
   ]
  },
  {
   "cell_type": "markdown",
   "metadata": {},
   "source": [
    "### List Objects (prefix)"
   ]
  },
  {
   "cell_type": "code",
   "execution_count": 113,
   "metadata": {},
   "outputs": [
    {
     "name": "stdout",
     "output_type": "stream",
     "text": [
      "1.ipynb\n",
      "2.ipynb\n",
      "bucket_1.ipynb\n",
      "folder/2.ipynb\n",
      "folder/3.ipynb\n",
      "folder/4.ipynb\n",
      "folder/apache/7.ipynb\n",
      "folder/apple/5.ipynb\n",
      "folder/application/6.ipynb\n"
     ]
    }
   ],
   "source": [
    "for obj in s3.Bucket(\"bucket_1\").objects.all():\n",
    "    print(obj.key)"
   ]
  },
  {
   "cell_type": "code",
   "execution_count": 114,
   "metadata": {},
   "outputs": [
    {
     "name": "stdout",
     "output_type": "stream",
     "text": [
      "folder/apple/5.ipynb\n",
      "2022-07-04 00:17:07+08:00\n",
      "6699\n",
      "folder/application/6.ipynb\n",
      "2022-07-04 00:17:07+08:00\n",
      "6699\n",
      "└── bucket_1\n",
      "    ├── 1.ipynb\n",
      "    ├── 2.ipynb\n",
      "    ├── bucket_1.ipynb\n",
      "    └── folder\n",
      "        ├── 2.ipynb\n",
      "        ├── 3.ipynb\n",
      "        ├── 4.ipynb\n",
      "        └── apache\n",
      "            └── 7.ipynb\n",
      "\n",
      "3 directories, 7 files\n"
     ]
    }
   ],
   "source": [
    "for obj in s3.Bucket(\"bucket_1\").objects.filter(Prefix=\"folder/app\"):\n",
    "    print(obj.key)\n",
    "    print(obj.last_modified)\n",
    "    print(obj.size)\n",
    "    obj.delete()\n",
    "!tree \"$curr_dir/buckets\" | tail -n +2"
   ]
  },
  {
   "cell_type": "markdown",
   "metadata": {},
   "source": [
    "### Download Objects"
   ]
  },
  {
   "cell_type": "code",
   "execution_count": 115,
   "metadata": {},
   "outputs": [
    {
     "name": "stdout",
     "output_type": "stream",
     "text": [
      "LICENSE      \u001b[34mbuckets\u001b[m\u001b[m      log.txt      temp.xml\n",
      "README.md    client.ipynb server.php   utils.php\n",
      "LICENSE        \u001b[34mbuckets\u001b[m\u001b[m        download.ipynb server.php     utils.php\n",
      "README.md      client.ipynb   log.txt        temp.xml\n"
     ]
    }
   ],
   "source": [
    "!ls \"$curr_dir\"\n",
    "download_file = os.path.join(curr_dir, \"download.ipynb\")\n",
    "s3.Bucket(\"bucket_1\").download_file(\"folder/apache/7.ipynb\", download_file)\n",
    "!ls \"$curr_dir\""
   ]
  },
  {
   "cell_type": "code",
   "execution_count": 116,
   "metadata": {},
   "outputs": [
    {
     "name": "stdout",
     "output_type": "stream",
     "text": [
      "LICENSE      \u001b[34mbuckets\u001b[m\u001b[m      log.txt      temp.xml\n",
      "README.md    client.ipynb server.php   utils.php\n"
     ]
    }
   ],
   "source": [
    "os.remove(download_file)\n",
    "!ls \"$curr_dir\""
   ]
  },
  {
   "cell_type": "markdown",
   "metadata": {},
   "source": [
    "### Delete Objects"
   ]
  },
  {
   "cell_type": "code",
   "execution_count": 117,
   "metadata": {},
   "outputs": [
    {
     "name": "stdout",
     "output_type": "stream",
     "text": [
      "\n",
      "0 directories, 0 files\n"
     ]
    }
   ],
   "source": [
    "for obj in s3.Bucket(\"bucket_1\").objects.all():\n",
    "    obj.delete()\n",
    "!tree \"$curr_dir/buckets\" | tail -n +2"
   ]
  },
  {
   "cell_type": "markdown",
   "metadata": {},
   "source": []
  }
 ],
 "metadata": {
  "kernelspec": {
   "display_name": "Python 3.9.12 ('base')",
   "language": "python",
   "name": "python3"
  },
  "language_info": {
   "codemirror_mode": {
    "name": "ipython",
    "version": 3
   },
   "file_extension": ".py",
   "mimetype": "text/x-python",
   "name": "python",
   "nbconvert_exporter": "python",
   "pygments_lexer": "ipython3",
   "version": "3.9.12"
  },
  "orig_nbformat": 4,
  "vscode": {
   "interpreter": {
    "hash": "d8fcee15318561c421fd029289997adde12df0a6deb462b29cf55fa6694a6d5b"
   }
  }
 },
 "nbformat": 4,
 "nbformat_minor": 2
}
